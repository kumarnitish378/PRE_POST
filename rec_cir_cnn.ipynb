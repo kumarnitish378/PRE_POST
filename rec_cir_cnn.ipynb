{
  "nbformat": 4,
  "nbformat_minor": 0,
  "metadata": {
    "colab": {
      "provenance": [],
      "collapsed_sections": []
    },
    "kernelspec": {
      "name": "python3",
      "display_name": "Python 3"
    },
    "language_info": {
      "name": "python"
    },
    "accelerator": "GPU",
    "gpuClass": "standard"
  },
  "cells": [
    {
      "cell_type": "markdown",
      "source": [
        "# Generate REC"
      ],
      "metadata": {
        "id": "nA2NRroQfgEt"
      }
    },
    {
      "cell_type": "code",
      "execution_count": 3,
      "metadata": {
        "colab": {
          "base_uri": "https://localhost:8080/"
        },
        "id": "L0RciZi3fYvc",
        "outputId": "d0915386-b44a-4ebb-dc88-4a7746b1d900"
      },
      "outputs": [
        {
          "output_type": "stream",
          "name": "stdout",
          "text": [
            "Done\n"
          ]
        }
      ],
      "source": [
        "import numpy as np\n",
        "import cv2\n",
        "from random import randint, random\n",
        "from scipy import signal\n",
        "np.random.seed(5)\n",
        "\n",
        "size = (64, 64, 3)\n",
        "\n",
        "for i in range(500):\n",
        "    flag = randint(0,1)\n",
        "\n",
        "    stx = randint(1, 40)\n",
        "    sty = randint(1, 40)\n",
        "    width = randint(20, 40)\n",
        "    heigh = randint(20, 40)\n",
        "\n",
        "    start_point = (stx, sty)\n",
        "    end_point = (stx+width, sty+heigh)\n",
        "    color = (randint(2, 5), randint(2, 5), randint(2, 5))\n",
        "    thickness = randint(2, 5)\n",
        "\n",
        "    img = np.ones(size)*255\n",
        "    img = cv2.rectangle(img, start_point, end_point, color, thickness)\n",
        "    img_float32 = np.float32(img)\n",
        "    gray = cv2.cvtColor(img_float32, cv2.COLOR_BGR2GRAY)\n",
        "    # print(gray.shape)\n",
        "    kernal = np.random.random((3,3))\n",
        "    if flag == 1:\n",
        "        gray = signal.convolve2d(gray, kernal, \"same\")\n",
        "\n",
        "    cv2.imwrite(\"/content/train/rec/{}.png\".format(i), gray)\n",
        "    # cv2.imshow(\"Img\", gray)\n",
        "\n",
        "# cv2.waitKey(0)\n",
        "print(\"Done\")"
      ]
    },
    {
      "cell_type": "code",
      "source": [
        "def generate_cir(num=50):\n",
        "    size = (64, 64, 3)\n",
        "    for i in range(num):\n",
        "        flag = randint(0,1)\n",
        "\n",
        "        stx = randint(1, 40)\n",
        "        sty = randint(1, 40)\n",
        "        radius = randint(10, 30)\n",
        "\n",
        "\n",
        "        center_coordinates = (stx, sty)\n",
        "\n",
        "        color = (randint(2, 5), randint(2, 5), randint(2, 5))\n",
        "        thickness = randint(5, 10)\n",
        "\n",
        "        img = np.ones(size)*255\n",
        "\n",
        "        img = cv2.circle(img, center_coordinates, radius, color, thickness)\n",
        "        img_float32 = np.float32(img)\n",
        "        gray = cv2.cvtColor(img_float32, cv2.COLOR_BGR2GRAY)\n",
        "        # print(gray.shape, i)\n",
        "        kernal = np.random.random((3,3))\n",
        "        if flag == 1:\n",
        "            gray = signal.convolve2d(gray, kernal, \"same\")\n",
        "\n",
        "        cv2.imwrite(\"train/cir/{}.png\".format(i), gray)\n",
        "\n",
        "\n",
        "# cv2.waitKey(0)\n",
        "generate_cir(num=500)"
      ],
      "metadata": {
        "id": "nr4JCCOBf7Wy"
      },
      "execution_count": 5,
      "outputs": []
    },
    {
      "cell_type": "code",
      "source": [
        "import tensorflow as tf"
      ],
      "metadata": {
        "id": "uFPWy4VFh5Mw"
      },
      "execution_count": 6,
      "outputs": []
    },
    {
      "cell_type": "code",
      "source": [
        "# Load Data"
      ],
      "metadata": {
        "id": "vn2KjKtZm7ft"
      },
      "execution_count": 7,
      "outputs": []
    },
    {
      "cell_type": "code",
      "source": [
        "import numpy as np\n",
        "import cv2"
      ],
      "metadata": {
        "id": "1L4Y-TZjnACJ"
      },
      "execution_count": 8,
      "outputs": []
    },
    {
      "cell_type": "code",
      "source": [
        "import matplotlib.pyplot as plt"
      ],
      "metadata": {
        "id": "vd7sOvs4rNdO"
      },
      "execution_count": 9,
      "outputs": []
    },
    {
      "cell_type": "code",
      "source": [],
      "metadata": {
        "id": "KliCJ-kYnN9s"
      },
      "execution_count": 9,
      "outputs": []
    },
    {
      "cell_type": "code",
      "source": [
        "import os"
      ],
      "metadata": {
        "id": "4fTowhT3nVlM"
      },
      "execution_count": 77,
      "outputs": []
    },
    {
      "cell_type": "code",
      "source": [
        "image_path = \"/content/train/rec\"\n",
        "rimg = []\n",
        "rlab = []\n",
        "for i in os.listdir(image_path):\n",
        "  path = image_path + \"/\" + i\n",
        "  rimg.append(cv2.imread(path, 0))\n",
        "  rlab.append(0)\n",
        "  # break\n"
      ],
      "metadata": {
        "id": "nFibkfs6nWe6"
      },
      "execution_count": 78,
      "outputs": []
    },
    {
      "cell_type": "code",
      "source": [
        "image_path = \"/content/test/rec\"\n",
        "rtimg = []\n",
        "rtlab = []\n",
        "for i in os.listdir(image_path):\n",
        "  path = image_path + \"/\" + i\n",
        "  rtimg.append(cv2.imread(path, 0))\n",
        "  rtlab.append(0)\n",
        "  # break\n"
      ],
      "metadata": {
        "id": "y2B8ylVc54yO"
      },
      "execution_count": 79,
      "outputs": []
    },
    {
      "cell_type": "code",
      "source": [
        "image_path = \"/content/train/cir\"\n",
        "cimg = []\n",
        "clab = []\n",
        "for i in os.listdir(image_path):\n",
        "  path = image_path + \"/\" + i\n",
        "  cimg.append(cv2.imread(path, 0))\n",
        "  clab.append(1)\n",
        "  # break\n"
      ],
      "metadata": {
        "id": "DMOtnSfQpcsb"
      },
      "execution_count": 80,
      "outputs": []
    },
    {
      "cell_type": "code",
      "source": [
        "image_path = \"/content/test/cir\"\n",
        "ctimg = []\n",
        "ctlab = []\n",
        "for i in os.listdir(image_path):\n",
        "  path = image_path + \"/\" + i\n",
        "  ctimg.append(cv2.imread(path, 0))\n",
        "  ctlab.append(1)\n",
        "  # break\n"
      ],
      "metadata": {
        "id": "JOpEDQ916BvE"
      },
      "execution_count": 81,
      "outputs": []
    },
    {
      "cell_type": "code",
      "source": [
        "rimg = np.array(rimg)\n",
        "cimg = np.array(cimg)\n",
        "rlab = np.array(rlab)\n",
        "clab = np.array(clab)"
      ],
      "metadata": {
        "id": "ltTM3TqYoys4"
      },
      "execution_count": 82,
      "outputs": []
    },
    {
      "cell_type": "code",
      "source": [
        "rtimg = np.array(rimg)\n",
        "ctimg = np.array(cimg)\n",
        "rtlab = np.array(rlab)\n",
        "ctlab = np.array(clab)"
      ],
      "metadata": {
        "id": "_91Bxxqc6Imp"
      },
      "execution_count": 83,
      "outputs": []
    },
    {
      "cell_type": "code",
      "source": [
        "rimg.shape"
      ],
      "metadata": {
        "colab": {
          "base_uri": "https://localhost:8080/"
        },
        "id": "Iipg1WIOo7Ha",
        "outputId": "9650c91d-08ec-42a1-c7ba-cf74f3c340fc"
      },
      "execution_count": 84,
      "outputs": [
        {
          "output_type": "execute_result",
          "data": {
            "text/plain": [
              "(500, 64, 64)"
            ]
          },
          "metadata": {},
          "execution_count": 84
        }
      ]
    },
    {
      "cell_type": "code",
      "source": [
        "cimg.shape, clab.shape"
      ],
      "metadata": {
        "colab": {
          "base_uri": "https://localhost:8080/"
        },
        "id": "IHN8UAdKo8hC",
        "outputId": "909ca090-1fcb-48bf-9ea4-0235aec02469"
      },
      "execution_count": 85,
      "outputs": [
        {
          "output_type": "execute_result",
          "data": {
            "text/plain": [
              "((500, 64, 64), (500,))"
            ]
          },
          "metadata": {},
          "execution_count": 85
        }
      ]
    },
    {
      "cell_type": "code",
      "source": [
        "xtrain = np.concatenate((rimg, cimg), axis=0)"
      ],
      "metadata": {
        "id": "2zQvJD_dpICa"
      },
      "execution_count": 86,
      "outputs": []
    },
    {
      "cell_type": "code",
      "source": [
        "xtest = np.concatenate((rtimg, ctimg), axis=0)"
      ],
      "metadata": {
        "id": "3meDJsJx6N3J"
      },
      "execution_count": 87,
      "outputs": []
    },
    {
      "cell_type": "code",
      "source": [
        "ytrain = np.concatenate((rlab, clab), axis=0)"
      ],
      "metadata": {
        "id": "hwcDawpVrhRs"
      },
      "execution_count": 88,
      "outputs": []
    },
    {
      "cell_type": "code",
      "source": [
        "ytest = np.concatenate((rtlab, ctlab), axis=0)"
      ],
      "metadata": {
        "id": "Zjz1qnRD6OXi"
      },
      "execution_count": 89,
      "outputs": []
    },
    {
      "cell_type": "code",
      "source": [
        "xtrain.shape"
      ],
      "metadata": {
        "colab": {
          "base_uri": "https://localhost:8080/"
        },
        "id": "gfjho62cq5Y5",
        "outputId": "1ab10068-87cc-43b2-fff4-4d8d14255dfa"
      },
      "execution_count": 90,
      "outputs": [
        {
          "output_type": "execute_result",
          "data": {
            "text/plain": [
              "(1000, 64, 64)"
            ]
          },
          "metadata": {},
          "execution_count": 90
        }
      ]
    },
    {
      "cell_type": "code",
      "source": [
        "plt.imshow(xtrain[499])"
      ],
      "metadata": {
        "colab": {
          "base_uri": "https://localhost:8080/",
          "height": 285
        },
        "id": "jt9mYk__rJ8u",
        "outputId": "c509edec-95fd-4022-9906-c30f9fbec19d"
      },
      "execution_count": 91,
      "outputs": [
        {
          "output_type": "execute_result",
          "data": {
            "text/plain": [
              "<matplotlib.image.AxesImage at 0x7f67b9d6a110>"
            ]
          },
          "metadata": {},
          "execution_count": 91
        },
        {
          "output_type": "display_data",
          "data": {
            "text/plain": [
              "<Figure size 432x288 with 1 Axes>"
            ],
            "image/png": "[encoded data removed]"
          },
          "metadata": {
            "needs_background": "light"
          }
        }
      ]
    },
    {
      "cell_type": "code",
      "source": [
        "clas = [\"rec\", \"cir\"]"
      ],
      "metadata": {
        "id": "8Sfgn1ctrY7n"
      },
      "execution_count": 92,
      "outputs": []
    },
    {
      "cell_type": "code",
      "source": [
        "import copy"
      ],
      "metadata": {
        "id": "g-nfysm4zEYp"
      },
      "execution_count": 93,
      "outputs": []
    },
    {
      "cell_type": "code",
      "source": [
        "def shuufle(data, label=2):\n",
        "    lenth = int(len(data)/2)\n",
        "    for i in range(lenth):\n",
        "        index = randint(1, lenth)-1\n",
        "        # print(index, index+lenth)\n",
        "        temp = copy.deepcopy(data[index])\n",
        "        data[index] = data[index+lenth]\n",
        "        data[index+lenth] = temp\n",
        "\n",
        "        temp = copy.deepcopy(label[index])\n",
        "        label[index] = label[index+lenth]\n",
        "        label[index+lenth] = temp\n",
        "\n",
        "    return data, label"
      ],
      "metadata": {
        "id": "_k13K-E7r44S"
      },
      "execution_count": 94,
      "outputs": []
    },
    {
      "cell_type": "code",
      "source": [
        "X_train, y_train = shuufle(xtrain, ytrain)"
      ],
      "metadata": {
        "id": "x7BXXilIs1hD"
      },
      "execution_count": 95,
      "outputs": []
    },
    {
      "cell_type": "code",
      "source": [
        "X_test, y_test = shuufle(xtest, ytest)"
      ],
      "metadata": {
        "id": "puCm8MxY6cSW"
      },
      "execution_count": 96,
      "outputs": []
    },
    {
      "cell_type": "code",
      "source": [
        "plt.imshow(X_train[160])"
      ],
      "metadata": {
        "colab": {
          "base_uri": "https://localhost:8080/",
          "height": 285
        },
        "id": "H8Jj84WztWGC",
        "outputId": "bade3f77-dfa3-4365-eb5a-fb367e7b0c72"
      },
      "execution_count": 97,
      "outputs": [
        {
          "output_type": "execute_result",
          "data": {
            "text/plain": [
              "<matplotlib.image.AxesImage at 0x7f67b9d2db10>"
            ]
          },
          "metadata": {},
          "execution_count": 97
        },
        {
          "output_type": "display_data",
          "data": {
            "text/plain": [
              "<Figure size 432x288 with 1 Axes>"
            ],
            "image/png": "[encoded data removed]"
          },
          "metadata": {
            "needs_background": "light"
          }
        }
      ]
    },
    {
      "cell_type": "code",
      "source": [
        "X_train = X_train/255"
      ],
      "metadata": {
        "id": "fXvVnMT7zmjf"
      },
      "execution_count": 98,
      "outputs": []
    },
    {
      "cell_type": "code",
      "source": [
        "X_test = X_test/255"
      ],
      "metadata": {
        "id": "Up0LjM5e7_Hy"
      },
      "execution_count": 99,
      "outputs": []
    },
    {
      "cell_type": "markdown",
      "source": [
        "# CNN Model"
      ],
      "metadata": {
        "id": "8TpYJ10L0fxT"
      }
    },
    {
      "cell_type": "code",
      "source": [
        "def create_classical_model():\n",
        "    # A simple model based off LeNet from https://keras.io/examples/mnist_cnn/\n",
        "    model = tf.keras.Sequential()\n",
        "    model.add(tf.keras.layers.Conv2D(32, [3, 3], activation='relu', input_shape=(64,64,1)))\n",
        "    model.add(tf.keras.layers.Conv2D(64, [3, 3], activation='relu'))\n",
        "    model.add(tf.keras.layers.MaxPooling2D(pool_size=(2, 2)))\n",
        "    model.add(tf.keras.layers.Dropout(0.25))\n",
        "    model.add(tf.keras.layers.Flatten())\n",
        "    model.add(tf.keras.layers.Dense(128, activation='relu'))\n",
        "    model.add(tf.keras.layers.Dropout(0.2))\n",
        "    model.add(tf.keras.layers.Dense(2, activation='softmax'))\n",
        "    return model\n",
        "\n",
        "\n",
        "model = create_classical_model()\n",
        "model.compile(loss='sparse_categorical_crossentropy',\n",
        "              optimizer=tf.keras.optimizers.Adam(),\n",
        "              metrics=['accuracy'])\n",
        "\n",
        "model.summary()"
      ],
      "metadata": {
        "colab": {
          "base_uri": "https://localhost:8080/"
        },
        "id": "sm0x0aUfz12T",
        "outputId": "f07f1d83-c483-4d1f-dcd8-ac93285dd898"
      },
      "execution_count": 100,
      "outputs": [
        {
          "output_type": "stream",
          "name": "stdout",
          "text": [
            "Model: \"sequential_5\"\n",
            "_________________________________________________________________\n",
            " Layer (type)                Output Shape              Param #   \n",
            "=================================================================\n",
            " conv2d_10 (Conv2D)          (None, 62, 62, 32)        320       \n",
            "                                                                 \n",
            " conv2d_11 (Conv2D)          (None, 60, 60, 64)        18496     \n",
            "                                                                 \n",
            " max_pooling2d_5 (MaxPooling  (None, 30, 30, 64)       0         \n",
            " 2D)                                                             \n",
            "                                                                 \n",
            " dropout_10 (Dropout)        (None, 30, 30, 64)        0         \n",
            "                                                                 \n",
            " flatten_5 (Flatten)         (None, 57600)             0         \n",
            "                                                                 \n",
            " dense_10 (Dense)            (None, 128)               7372928   \n",
            "                                                                 \n",
            " dropout_11 (Dropout)        (None, 128)               0         \n",
            "                                                                 \n",
            " dense_11 (Dense)            (None, 2)                 258       \n",
            "                                                                 \n",
            "=================================================================\n",
            "Total params: 7,392,002\n",
            "Trainable params: 7,392,002\n",
            "Non-trainable params: 0\n",
            "_________________________________________________________________\n"
          ]
        }
      ]
    },
    {
      "cell_type": "code",
      "source": [
        "# model.compile(optimizer=\"adam\", loss=tf.keras.losses.categorical_crossentropy, metrics=['accuray'])"
      ],
      "metadata": {
        "id": "WZUJFBkG1pnY"
      },
      "execution_count": 101,
      "outputs": []
    },
    {
      "cell_type": "code",
      "source": [],
      "metadata": {
        "id": "-3hvcCaB2Gvu"
      },
      "execution_count": 101,
      "outputs": []
    },
    {
      "cell_type": "code",
      "source": [
        "y_train.shape"
      ],
      "metadata": {
        "colab": {
          "base_uri": "https://localhost:8080/"
        },
        "id": "tozNRKqf2M7a",
        "outputId": "8dcf1b48-fff2-4f3f-9df7-3379899a5fb6"
      },
      "execution_count": 102,
      "outputs": [
        {
          "output_type": "execute_result",
          "data": {
            "text/plain": [
              "(1000,)"
            ]
          },
          "metadata": {},
          "execution_count": 102
        }
      ]
    },
    {
      "cell_type": "code",
      "source": [
        "model.fit(X_train, y_train, epochs=5, batch_size=12)"
      ],
      "metadata": {
        "colab": {
          "base_uri": "https://localhost:8080/"
        },
        "id": "t8e1t3Ut2QPi",
        "outputId": "187bc331-2673-4fc2-f657-31bf41311618"
      },
      "execution_count": 103,
      "outputs": [
        {
          "output_type": "stream",
          "name": "stdout",
          "text": [
            "Epoch 1/5\n",
            "84/84 [==============================] - 1s 9ms/step - loss: 0.5340 - accuracy: 0.7980\n",
            "Epoch 2/5\n",
            "84/84 [==============================] - 1s 8ms/step - loss: 0.0326 - accuracy: 0.9900\n",
            "Epoch 3/5\n",
            "84/84 [==============================] - 1s 6ms/step - loss: 0.0023 - accuracy: 1.0000\n",
            "Epoch 4/5\n",
            "84/84 [==============================] - 1s 6ms/step - loss: 5.4704e-04 - accuracy: 1.0000\n",
            "Epoch 5/5\n",
            "84/84 [==============================] - 1s 6ms/step - loss: 3.9084e-04 - accuracy: 1.0000\n"
          ]
        },
        {
          "output_type": "execute_result",
          "data": {
            "text/plain": [
              "<keras.callbacks.History at 0x7f67b9cf30d0>"
            ]
          },
          "metadata": {},
          "execution_count": 103
        }
      ]
    },
    {
      "cell_type": "code",
      "source": [
        "model.evaluate(X_test, y_test)"
      ],
      "metadata": {
        "colab": {
          "base_uri": "https://localhost:8080/"
        },
        "id": "1Cl8CoBW8lmn",
        "outputId": "1a5bdf66-6c12-4d1d-9d9e-906f716071a9"
      },
      "execution_count": 104,
      "outputs": [
        {
          "output_type": "stream",
          "name": "stdout",
          "text": [
            "32/32 [==============================] - 0s 6ms/step - loss: 1.5261e-04 - accuracy: 1.0000\n"
          ]
        },
        {
          "output_type": "execute_result",
          "data": {
            "text/plain": [
              "[0.00015261273074429482, 1.0]"
            ]
          },
          "metadata": {},
          "execution_count": 104
        }
      ]
    },
    {
      "cell_type": "code",
      "source": [
        "pred = model.predict(X_test)"
      ],
      "metadata": {
        "id": "xBkoM6V6-Z2n"
      },
      "execution_count": 149,
      "outputs": []
    },
    {
      "cell_type": "code",
      "source": [
        "y_pred = [np.argmax(i) for i in pred]"
      ],
      "metadata": {
        "id": "n7mmBR7vEB3B"
      },
      "execution_count": 152,
      "outputs": []
    },
    {
      "cell_type": "code",
      "source": [
        "np.argmax(pred[15]), clas[np.argmax(pred[15])]"
      ],
      "metadata": {
        "colab": {
          "base_uri": "https://localhost:8080/"
        },
        "id": "YjkyQBGL-iaf",
        "outputId": "9d34ce17-446b-4282-85ba-dd8d2194e697"
      },
      "execution_count": 150,
      "outputs": [
        {
          "output_type": "execute_result",
          "data": {
            "text/plain": [
              "(0, 'rec')"
            ]
          },
          "metadata": {},
          "execution_count": 150
        }
      ]
    },
    {
      "cell_type": "code",
      "source": [
        "plt.imshow(X_test[15])"
      ],
      "metadata": {
        "colab": {
          "base_uri": "https://localhost:8080/",
          "height": 285
        },
        "id": "nfkNM8OT-nOf",
        "outputId": "68029507-12bd-4d49-9df7-df6dd20258e2"
      },
      "execution_count": 113,
      "outputs": [
        {
          "output_type": "execute_result",
          "data": {
            "text/plain": [
              "<matplotlib.image.AxesImage at 0x7f67ccae9110>"
            ]
          },
          "metadata": {},
          "execution_count": 113
        },
        {
          "output_type": "display_data",
          "data": {
            "text/plain": [
              "<Figure size 432x288 with 1 Axes>"
            ],
            "image/png": "[encoded data removed]"
          },
          "metadata": {
            "needs_background": "light"
          }
        }
      ]
    },
    {
      "cell_type": "code",
      "source": [
        "ytest[15]"
      ],
      "metadata": {
        "colab": {
          "base_uri": "https://localhost:8080/"
        },
        "id": "vGd2cpAB-0Gv",
        "outputId": "7a12b699-24f0-4f1a-de32-b79b8a8eac11"
      },
      "execution_count": 114,
      "outputs": [
        {
          "output_type": "execute_result",
          "data": {
            "text/plain": [
              "0"
            ]
          },
          "metadata": {},
          "execution_count": 114
        }
      ]
    },
    {
      "cell_type": "markdown",
      "source": [
        "# CM "
      ],
      "metadata": {
        "id": "khYs31ctDFoU"
      }
    },
    {
      "cell_type": "code",
      "source": [
        "import matplotlib.pyplot as plt\n",
        "from sklearn.metrics import confusion_matrix, plot_confusion_matrix\n"
      ],
      "metadata": {
        "id": "o6TaEUjXDTtp"
      },
      "execution_count": 147,
      "outputs": []
    },
    {
      "cell_type": "code",
      "source": [
        "M = confusion_matrix(ytest, y_pred)\n",
        "M"
      ],
      "metadata": {
        "colab": {
          "base_uri": "https://localhost:8080/"
        },
        "id": "EBCU_hZWDTqP",
        "outputId": "1d84b052-b07f-41b4-cae8-e96a01c584c5"
      },
      "execution_count": 153,
      "outputs": [
        {
          "output_type": "execute_result",
          "data": {
            "text/plain": [
              "array([[500,   0],\n",
              "       [  0, 500]])"
            ]
          },
          "metadata": {},
          "execution_count": 153
        }
      ]
    },
    {
      "cell_type": "code",
      "source": [
        "import seaborn as  sns"
      ],
      "metadata": {
        "id": "6KfGS6v6EgOf"
      },
      "execution_count": 155,
      "outputs": []
    },
    {
      "cell_type": "code",
      "source": [
        "from sklearn.metrics import confusion_matrix\n",
        "conf_mat = confusion_matrix(ytest, y_pred)\n",
        "sns.heatmap(conf_mat, square=True, annot=True, cmap='Blues', fmt='d', cbar=False)"
      ],
      "metadata": {
        "colab": {
          "base_uri": "https://localhost:8080/",
          "height": 282
        },
        "id": "lEHAWSsHDTcI",
        "outputId": "546349ca-6add-42c4-a16a-2de48f97c9e2"
      },
      "execution_count": 156,
      "outputs": [
        {
          "output_type": "execute_result",
          "data": {
            "text/plain": [
              "<matplotlib.axes._subplots.AxesSubplot at 0x7f67906b1390>"
            ]
          },
          "metadata": {},
          "execution_count": 156
        },
        {
          "output_type": "display_data",
          "data": {
            "text/plain": [
              "<Figure size 432x288 with 1 Axes>"
            ],
            "image/png": "[encoded data removed]"
          },
          "metadata": {
            "needs_background": "light"
          }
        }
      ]
    },
    {
      "cell_type": "code",
      "source": [],
      "metadata": {
        "id": "RwgAPrJtDTXc"
      },
      "execution_count": null,
      "outputs": []
    },
    {
      "cell_type": "code",
      "source": [],
      "metadata": {
        "id": "F2AKqcsaDTTn"
      },
      "execution_count": null,
      "outputs": []
    },
    {
      "cell_type": "markdown",
      "source": [
        "# Custom Prediction"
      ],
      "metadata": {
        "id": "KiJ7TiluDCI-"
      }
    },
    {
      "cell_type": "code",
      "source": [
        "im = np.array([cv2.imread(\"/content/circle.png\", 0)/255])\n",
        "im"
      ],
      "metadata": {
        "colab": {
          "base_uri": "https://localhost:8080/"
        },
        "id": "SUuSP6NM-8Jd",
        "outputId": "4d1fa7f1-e599-4a89-8b01-c571da921c5e"
      },
      "execution_count": 169,
      "outputs": [
        {
          "output_type": "execute_result",
          "data": {
            "text/plain": [
              "array([[[1., 1., 1., ..., 1., 1., 1.],\n",
              "        [1., 1., 1., ..., 1., 1., 1.],\n",
              "        [1., 1., 1., ..., 1., 1., 1.],\n",
              "        ...,\n",
              "        [1., 1., 1., ..., 1., 1., 1.],\n",
              "        [1., 1., 1., ..., 1., 1., 1.],\n",
              "        [1., 1., 1., ..., 1., 1., 1.]]])"
            ]
          },
          "metadata": {},
          "execution_count": 169
        }
      ]
    },
    {
      "cell_type": "code",
      "source": [
        "plt.imshow(im[0])"
      ],
      "metadata": {
        "colab": {
          "base_uri": "https://localhost:8080/",
          "height": 285
        },
        "id": "xBYbRlAkBhZW",
        "outputId": "ce06b2fa-f97c-4122-d7b6-808e420fbd40"
      },
      "execution_count": 170,
      "outputs": [
        {
          "output_type": "execute_result",
          "data": {
            "text/plain": [
              "<matplotlib.image.AxesImage at 0x7f6790549150>"
            ]
          },
          "metadata": {},
          "execution_count": 170
        },
        {
          "output_type": "display_data",
          "data": {
            "text/plain": [
              "<Figure size 432x288 with 1 Axes>"
            ],
            "image/png": "[encoded data removed]"
          },
          "metadata": {
            "needs_background": "light"
          }
        }
      ]
    },
    {
      "cell_type": "code",
      "source": [
        "im.shape"
      ],
      "metadata": {
        "colab": {
          "base_uri": "https://localhost:8080/"
        },
        "id": "88_TNX9YBB7v",
        "outputId": "58603635-7d89-4037-de22-fa8c67355ded"
      },
      "execution_count": 171,
      "outputs": [
        {
          "output_type": "execute_result",
          "data": {
            "text/plain": [
              "(1, 64, 64)"
            ]
          },
          "metadata": {},
          "execution_count": 171
        }
      ]
    },
    {
      "cell_type": "code",
      "source": [],
      "metadata": {
        "id": "B35rUYkpC0XV"
      },
      "execution_count": 171,
      "outputs": []
    },
    {
      "cell_type": "code",
      "source": [
        "res = model.predict(im)"
      ],
      "metadata": {
        "id": "tg4GOSmPBJwg"
      },
      "execution_count": 172,
      "outputs": []
    },
    {
      "cell_type": "code",
      "source": [
        "np.argmax(res[0]), clas[np.argmax(res[0])]"
      ],
      "metadata": {
        "colab": {
          "base_uri": "https://localhost:8080/"
        },
        "id": "yDmWsI6lBQdt",
        "outputId": "cd5fee6d-2fed-4a03-a505-af20f1ce2d0d"
      },
      "execution_count": 173,
      "outputs": [
        {
          "output_type": "execute_result",
          "data": {
            "text/plain": [
              "(0, 'rec')"
            ]
          },
          "metadata": {},
          "execution_count": 173
        }
      ]
    },
    {
      "cell_type": "code",
      "source": [
        "# model.save(\"rec_cir_cnn.h5\")"
      ],
      "metadata": {
        "id": "25ReE3qnBeIZ"
      },
      "execution_count": 174,
      "outputs": []
    },
    {
      "cell_type": "code",
      "source": [],
      "metadata": {
        "id": "Sq20Gv3SCVZk"
      },
      "execution_count": null,
      "outputs": []
    }
  ]
}